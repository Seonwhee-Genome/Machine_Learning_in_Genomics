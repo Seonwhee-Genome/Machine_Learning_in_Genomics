{
 "cells": [
  {
   "cell_type": "code",
   "execution_count": 7,
   "metadata": {
    "collapsed": true
   },
   "outputs": [],
   "source": [
    "import numpy as np\n",
    "import pandas as pd"
   ]
  },
  {
   "cell_type": "code",
   "execution_count": 11,
   "metadata": {
    "collapsed": true
   },
   "outputs": [],
   "source": [
    "microRNA = pd.read_csv(\"./Sample_data/final_miRNA.txt\", sep=\"\\t\", header=0, index_col=0)\n",
    "mRNA = pd.read_csv(\"./Sample_data/final_mRNA.txt\", sep=\"\\t\", header=0, index_col=0)\n",
    "CNV = pd.read_csv(\"./Sample_data/final_CNV.txt\", sep=\"\\t\", header=0, index_col=0)\n",
    "mutation = pd.read_csv(\"./Sample_data/final_mutation.txt\", sep=\"\\t\", header=0, index_col=0)\n",
    "methylation = pd.read_csv(\"./Sample_data/final_methy_rmNAnBlank.txt\", sep=\"\\t\", header=0, index_col=0)"
   ]
  },
  {
   "cell_type": "markdown",
   "metadata": {},
   "source": [
    "#### Min-Max Normalization"
   ]
  },
  {
   "cell_type": "code",
   "execution_count": 15,
   "metadata": {
    "collapsed": false
   },
   "outputs": [],
   "source": [
    "from sklearn.preprocessing import MinMaxScaler\n",
    "\n",
    "def MIN_MAX_normalizer(input_data):\n",
    "    normalizer = MinMaxScaler()\n",
    "    normalizer.fit(input_data)\n",
    "    return normalizer.transform(input_data)"
   ]
  },
  {
   "cell_type": "code",
   "execution_count": 17,
   "metadata": {
    "collapsed": false
   },
   "outputs": [
    {
     "name": "stderr",
     "output_type": "stream",
     "text": [
      "/home/seonwhee/anaconda3/envs/tensorflow/lib/python3.5/site-packages/sklearn/utils/validation.py:429: DataConversionWarning: Data with input dtype int64 was converted to float64 by MinMaxScaler.\n",
      "  warnings.warn(msg, _DataConversionWarning)\n"
     ]
    }
   ],
   "source": [
    "microRNA_normalized = MIN_MAX_normalizer(microRNA.values)\n",
    "mRNA_normalized = MIN_MAX_normalizer(mRNA.values)\n",
    "CNV_normalized = MIN_MAX_normalizer(CNV.values)\n",
    "mutation_normalized = MIN_MAX_normalizer(mutation.values)\n",
    "methylation_normalized = MIN_MAX_normalizer(mutation.values)"
   ]
  },
  {
   "cell_type": "markdown",
   "metadata": {},
   "source": [
    "## Shape data to a tensor"
   ]
  },
  {
   "cell_type": "code",
   "execution_count": 22,
   "metadata": {
    "collapsed": false
   },
   "outputs": [],
   "source": [
    "biodata = np.dstack((microRNA_normalized, mRNA_normalized, CNV_normalized, mutation_normalized, methylation_normalized))"
   ]
  },
  {
   "cell_type": "code",
   "execution_count": 23,
   "metadata": {
    "collapsed": false
   },
   "outputs": [
    {
     "name": "stdout",
     "output_type": "stream",
     "text": [
      "(1400, 270, 5)\n"
     ]
    }
   ],
   "source": [
    "print(biodata.shape)"
   ]
  },
  {
   "cell_type": "code",
   "execution_count": 24,
   "metadata": {
    "collapsed": false
   },
   "outputs": [
    {
     "name": "stdout",
     "output_type": "stream",
     "text": [
      "(1400, 270, 5)\n",
      "[[[ 0.28925068  0.57440331  0.47118156  0.          0.        ]\n",
      "  [ 0.23378046  0.62645046  0.24977335  0.          0.        ]\n",
      "  [ 0.2169584   0.48037808  0.09443099  0.          0.        ]\n",
      "  ..., \n",
      "  [ 0.26429653  0.35496891  0.99510661  0.          0.        ]\n",
      "  [ 0.279186    0.57470434  0.2897351   0.          0.        ]\n",
      "  [ 0.20114243  0.54016068  0.30414747  0.          0.        ]]\n",
      "\n",
      " [[ 0.28749256  0.3005102   0.4657781   0.          0.        ]\n",
      "  [ 0.23246603  0.18111731  0.09746147  0.          0.        ]\n",
      "  [ 0.4005264   0.22253666  0.28886199  0.          0.        ]\n",
      "  ..., \n",
      "  [ 0.20798147  0.14591656  0.16987067  0.          0.        ]\n",
      "  [ 0.2685953   0.30250326  0.09795806  0.          0.        ]\n",
      "  [ 0.19948298  0.29527937  0.18202765  0.          0.        ]]\n",
      "\n",
      " [[ 0.2385134   0.01951305  0.4693804   0.          0.        ]\n",
      "  [ 0.23415781  0.0819434   0.10902085  0.          0.        ]\n",
      "  [ 0.21744301  0.03183872  0.28280872  0.          0.        ]\n",
      "  ..., \n",
      "  [ 0.40989857  0.25263375  0.74065012  0.          0.        ]\n",
      "  [ 0.27087508  0.10987322  0.25469095  0.          0.        ]\n",
      "  [ 0.20144858  0.03817486  0.3477168   0.          0.        ]]\n",
      "\n",
      " ..., \n",
      " [[ 0.28757472  0.35470389  0.46829971  0.          0.        ]\n",
      "  [ 0.23253277  0.29980573  0.22620127  0.          0.        ]\n",
      "  [ 0.21535982  0.22546445  0.19903148  0.          0.        ]\n",
      "  ..., \n",
      "  [ 0.26284902  0.23022116  0.45403705  0.          0.        ]\n",
      "  [ 0.26871101  0.24723326  0.24227373  0.          0.        ]\n",
      "  [ 0.19956053  0.33363559  0.29534981  0.          0.        ]]\n",
      "\n",
      " [[ 0.28763334  0.24551384  0.40634006  0.          0.        ]\n",
      "  [ 0.23257583  0.19892539  0.20421578  0.          0.        ]\n",
      "  [ 0.21541711  0.15756251  0.20145278  0.          0.        ]\n",
      "  ..., \n",
      "  [ 0.26289007  0.14040608  0.16567634  0.          0.        ]\n",
      "  [ 0.26876647  0.24877059  0.34050773  0.          0.        ]\n",
      "  [ 0.19961663  0.25101104  0.21826561  0.          0.        ]]\n",
      "\n",
      " [[ 0.28691236  0.66722638  0.46721902  0.          0.        ]\n",
      "  [ 0.23199468  0.67255019  0.19242974  0.          0.        ]\n",
      "  [ 0.21467003  0.67410168  0.28280872  0.          0.        ]\n",
      "  ..., \n",
      "  [ 0.26238039  0.68103455  0.74274729  0.          0.        ]\n",
      "  [ 0.21804498  0.62721455  0.25469095  0.          0.        ]\n",
      "  [ 0.19893535  0.66041602  0.3477168   0.          0.        ]]]\n"
     ]
    }
   ],
   "source": [
    "import tensorflow as tf\n",
    "\n",
    "biodata2 = tf.Variable(biodata)\n",
    "with tf.Session() as sess:\n",
    "    sess.run(tf.global_variables_initializer())\n",
    "    print(biodata2.get_shape())\n",
    "    print(sess.run(biodata2))"
   ]
  },
  {
   "cell_type": "code",
   "execution_count": null,
   "metadata": {
    "collapsed": true
   },
   "outputs": [],
   "source": []
  }
 ],
 "metadata": {
  "kernelspec": {
   "display_name": "Python 3",
   "language": "python",
   "name": "python3"
  },
  "language_info": {
   "codemirror_mode": {
    "name": "ipython",
    "version": 3
   },
   "file_extension": ".py",
   "mimetype": "text/x-python",
   "name": "python",
   "nbconvert_exporter": "python",
   "pygments_lexer": "ipython3",
   "version": "3.5.2"
  }
 },
 "nbformat": 4,
 "nbformat_minor": 1
}
